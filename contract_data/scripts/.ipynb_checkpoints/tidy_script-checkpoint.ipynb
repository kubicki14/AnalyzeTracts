{
 "cells": [
  {
   "cell_type": "markdown",
   "metadata": {},
   "source": [
    "# Early game running start"
   ]
  },
  {
   "cell_type": "markdown",
   "metadata": {},
   "source": [
    "### Source - https://medium.com/@rqaiserr/how-to-convert-pdfs-into-searchable-key-words-with-python-85aab86c544f"
   ]
  },
  {
   "cell_type": "code",
   "execution_count": null,
   "metadata": {},
   "outputs": [],
   "source": [
    "import pandas as pd\n",
    "import numpy as np\n",
    "import regex as re\n",
    "import requests\n",
    "import nltk\n",
    "import PyPDF2 \n",
    "#import textract\n",
    "from nltk.tokenize import word_tokenize\n",
    "from nltk.corpus import stopwords\n",
    "#nltk.download('punkt') # necessary jaxzz to tokenize\n",
    "# for downloading pdf's"
   ]
  },
  {
   "cell_type": "markdown",
   "metadata": {},
   "source": [
    "## Step 1: Clean Main dataset and Download State PDF Contracts Remote->Local"
   ]
  },
  {
   "cell_type": "code",
   "execution_count": null,
   "metadata": {},
   "outputs": [],
   "source": [
    "# Import raw dataset from kaggle\n",
    "data = pd.read_csv('../raw/contracts.csv', encoding='utf-8')\n",
    "# Change column headers to utilize underlines instead of whitespace.\n",
    "data.columns = data.columns.str.replace(' ', '_')\n",
    "# Use list comprehension to make all headers lowercase as well.\n",
    "data.columns = [x.lower() for x in data.columns]\n",
    "# Change contract_url header to say just that...\n",
    "data.rename(columns={'contract_pdf': 'contract_url'}, inplace=True)\n",
    "# Output first 5 rows (head)\n",
    "data.head()"
   ]
  },
  {
   "cell_type": "code",
   "execution_count": null,
   "metadata": {},
   "outputs": [],
   "source": [
    "# How many rows? (before filter)\n",
    "len(data.index)"
   ]
  },
  {
   "cell_type": "code",
   "execution_count": null,
   "metadata": {},
   "outputs": [],
   "source": [
    "# Filter and create a df with only contracts that have an attached url\n",
    "data['contract_url'].replace('', np.nan, inplace=True)\n",
    "data.dropna(subset=['contract_url'], inplace=True)\n",
    "# How many rows? (after filter should  be 45,775)\n",
    "len(data.index)"
   ]
  },
  {
   "cell_type": "code",
   "execution_count": 11,
   "metadata": {
    "scrolled": true
   },
   "outputs": [
    {
     "data": {
      "text/html": [
       "<div>\n",
       "<style scoped>\n",
       "    .dataframe tbody tr th:only-of-type {\n",
       "        vertical-align: middle;\n",
       "    }\n",
       "\n",
       "    .dataframe tbody tr th {\n",
       "        vertical-align: top;\n",
       "    }\n",
       "\n",
       "    .dataframe thead th {\n",
       "        text-align: right;\n",
       "    }\n",
       "</style>\n",
       "<table border=\"1\" class=\"dataframe\">\n",
       "  <thead>\n",
       "    <tr style=\"text-align: right;\">\n",
       "      <th></th>\n",
       "      <th>purchase_order_description</th>\n",
       "      <th>purchase_order_(contract)_number</th>\n",
       "      <th>revision_number</th>\n",
       "      <th>specification_number</th>\n",
       "      <th>contract_type</th>\n",
       "      <th>start_date</th>\n",
       "      <th>end_date</th>\n",
       "      <th>approval_date</th>\n",
       "      <th>department</th>\n",
       "      <th>vendor_name</th>\n",
       "      <th>vendor_id</th>\n",
       "      <th>address_1</th>\n",
       "      <th>address_2</th>\n",
       "      <th>city</th>\n",
       "      <th>state</th>\n",
       "      <th>zip</th>\n",
       "      <th>award_amount</th>\n",
       "      <th>procurement_type</th>\n",
       "      <th>contract_url</th>\n",
       "    </tr>\n",
       "  </thead>\n",
       "  <tbody>\n",
       "    <tr>\n",
       "      <th>50825</th>\n",
       "      <td>FY 04 HOMELESS SERVICES</td>\n",
       "      <td>2155</td>\n",
       "      <td>0</td>\n",
       "      <td>11655</td>\n",
       "      <td>DELEGATE AGENCY</td>\n",
       "      <td>2003-07-01T00:00:00</td>\n",
       "      <td>2005-06-30T00:00:00</td>\n",
       "      <td>2003-06-26T00:00:00</td>\n",
       "      <td>DEPARTMENT OF HUMAN SERVICES</td>\n",
       "      <td>LAKE FRONT SRO CORP.</td>\n",
       "      <td>3970415Z</td>\n",
       "      <td>4946 N SHERIDAN RD</td>\n",
       "      <td>NaN</td>\n",
       "      <td>CHICAGO</td>\n",
       "      <td>IL</td>\n",
       "      <td>60640</td>\n",
       "      <td>204000.0</td>\n",
       "      <td>RFP</td>\n",
       "      <td>http://ecm.cityofchicago.org/eSMARTContracts/s...</td>\n",
       "    </tr>\n",
       "    <tr>\n",
       "      <th>50826</th>\n",
       "      <td>Second Half of Cultural Outreach Program 2012</td>\n",
       "      <td>26792</td>\n",
       "      <td>0</td>\n",
       "      <td>110510</td>\n",
       "      <td>DELEGATE AGENCY</td>\n",
       "      <td>2012-07-01T00:00:00</td>\n",
       "      <td>2013-02-15T00:00:00</td>\n",
       "      <td>2012-08-30T00:00:00</td>\n",
       "      <td>DEPARTMENT OF CULTURAL AFFAIRS</td>\n",
       "      <td>CHANGING WORLDS</td>\n",
       "      <td>91371340Z</td>\n",
       "      <td>329 W 18TH STREET EFT ST</td>\n",
       "      <td>NaN</td>\n",
       "      <td>CHICAGO</td>\n",
       "      <td>IL</td>\n",
       "      <td>60616</td>\n",
       "      <td>6000.0</td>\n",
       "      <td>NaN</td>\n",
       "      <td>http://ecm.cityofchicago.org/eSMARTContracts/s...</td>\n",
       "    </tr>\n",
       "    <tr>\n",
       "      <th>50827</th>\n",
       "      <td>Open Space - 4228 W. Ogden</td>\n",
       "      <td>29130</td>\n",
       "      <td>0</td>\n",
       "      <td>121371</td>\n",
       "      <td>COMPTROLLER-OTHER</td>\n",
       "      <td>2013-10-16T00:00:00</td>\n",
       "      <td>2014-12-31T00:00:00</td>\n",
       "      <td>2013-11-08T00:00:00</td>\n",
       "      <td>DEPT OF COMMUNITY DEVELOPMENT</td>\n",
       "      <td>OPENLANDS</td>\n",
       "      <td>93410144P</td>\n",
       "      <td>AMERICAN NATL BK #784699</td>\n",
       "      <td>33 N LA SALLE ST</td>\n",
       "      <td>CHICAGO</td>\n",
       "      <td>IL</td>\n",
       "      <td>60690</td>\n",
       "      <td>192384.1</td>\n",
       "      <td>NaN</td>\n",
       "      <td>http://ecm.cityofchicago.org/eSMARTContracts/s...</td>\n",
       "    </tr>\n",
       "    <tr>\n",
       "      <th>50828</th>\n",
       "      <td>DUMP TRAILERS</td>\n",
       "      <td>9982</td>\n",
       "      <td>0</td>\n",
       "      <td>35680</td>\n",
       "      <td>VEHICLES/HEAVY EQUIPMENT (CAPITAL)</td>\n",
       "      <td>2005-11-01T00:00:00</td>\n",
       "      <td>2008-10-31T00:00:00</td>\n",
       "      <td>2005-11-08T00:00:00</td>\n",
       "      <td>DEPT OF FLEET MGMT</td>\n",
       "      <td>R G SMITH EQUIPMENT CO.</td>\n",
       "      <td>31303247L</td>\n",
       "      <td>622 NORTHWEST HWY</td>\n",
       "      <td>NaN</td>\n",
       "      <td>DES PLAINES</td>\n",
       "      <td>IL</td>\n",
       "      <td>60018</td>\n",
       "      <td>809580.0</td>\n",
       "      <td>BID</td>\n",
       "      <td>http://ecm.cityofchicago.org/eSMARTContracts/s...</td>\n",
       "    </tr>\n",
       "    <tr>\n",
       "      <th>50829</th>\n",
       "      <td>CAB/CHASSIS WITH UTILITY BODY BOOM, 54' BUCKET...</td>\n",
       "      <td>T24436</td>\n",
       "      <td>0</td>\n",
       "      <td>B10705307</td>\n",
       "      <td>Term Agreement</td>\n",
       "      <td>2002-07-01T00:00:00</td>\n",
       "      <td>2004-06-30T00:00:00</td>\n",
       "      <td>2002-06-21T00:00:00</td>\n",
       "      <td>DEPT OF STREETS &amp; SANITATION</td>\n",
       "      <td>MID-AMERICA TRUCK&amp;EQUIP CO INC</td>\n",
       "      <td>33668302P</td>\n",
       "      <td>625 SOUTH RTE  83</td>\n",
       "      <td>NaN</td>\n",
       "      <td>ELMHURST</td>\n",
       "      <td>IL</td>\n",
       "      <td>60126</td>\n",
       "      <td>0.0</td>\n",
       "      <td>NaN</td>\n",
       "      <td>http://ecm.cityofchicago.org/eSMARTContracts/s...</td>\n",
       "    </tr>\n",
       "  </tbody>\n",
       "</table>\n",
       "</div>"
      ],
      "text/plain": [
       "                              purchase_order_description  \\\n",
       "50825                            FY 04 HOMELESS SERVICES   \n",
       "50826      Second Half of Cultural Outreach Program 2012   \n",
       "50827                         Open Space - 4228 W. Ogden   \n",
       "50828                                      DUMP TRAILERS   \n",
       "50829  CAB/CHASSIS WITH UTILITY BODY BOOM, 54' BUCKET...   \n",
       "\n",
       "      purchase_order_(contract)_number revision_number specification_number  \\\n",
       "50825                             2155               0                11655   \n",
       "50826                            26792               0               110510   \n",
       "50827                            29130               0               121371   \n",
       "50828                             9982               0                35680   \n",
       "50829                           T24436               0            B10705307   \n",
       "\n",
       "                            contract_type           start_date  \\\n",
       "50825                     DELEGATE AGENCY  2003-07-01T00:00:00   \n",
       "50826                     DELEGATE AGENCY  2012-07-01T00:00:00   \n",
       "50827                   COMPTROLLER-OTHER  2013-10-16T00:00:00   \n",
       "50828  VEHICLES/HEAVY EQUIPMENT (CAPITAL)  2005-11-01T00:00:00   \n",
       "50829                      Term Agreement  2002-07-01T00:00:00   \n",
       "\n",
       "                  end_date        approval_date  \\\n",
       "50825  2005-06-30T00:00:00  2003-06-26T00:00:00   \n",
       "50826  2013-02-15T00:00:00  2012-08-30T00:00:00   \n",
       "50827  2014-12-31T00:00:00  2013-11-08T00:00:00   \n",
       "50828  2008-10-31T00:00:00  2005-11-08T00:00:00   \n",
       "50829  2004-06-30T00:00:00  2002-06-21T00:00:00   \n",
       "\n",
       "                           department                     vendor_name  \\\n",
       "50825    DEPARTMENT OF HUMAN SERVICES            LAKE FRONT SRO CORP.   \n",
       "50826  DEPARTMENT OF CULTURAL AFFAIRS                 CHANGING WORLDS   \n",
       "50827   DEPT OF COMMUNITY DEVELOPMENT                       OPENLANDS   \n",
       "50828              DEPT OF FLEET MGMT         R G SMITH EQUIPMENT CO.   \n",
       "50829    DEPT OF STREETS & SANITATION  MID-AMERICA TRUCK&EQUIP CO INC   \n",
       "\n",
       "       vendor_id                 address_1         address_2         city  \\\n",
       "50825   3970415Z        4946 N SHERIDAN RD               NaN      CHICAGO   \n",
       "50826  91371340Z  329 W 18TH STREET EFT ST               NaN      CHICAGO   \n",
       "50827  93410144P  AMERICAN NATL BK #784699  33 N LA SALLE ST      CHICAGO   \n",
       "50828  31303247L         622 NORTHWEST HWY               NaN  DES PLAINES   \n",
       "50829  33668302P         625 SOUTH RTE  83               NaN     ELMHURST   \n",
       "\n",
       "      state    zip  award_amount procurement_type  \\\n",
       "50825    IL  60640      204000.0              RFP   \n",
       "50826    IL  60616        6000.0              NaN   \n",
       "50827    IL  60690      192384.1              NaN   \n",
       "50828    IL  60018      809580.0              BID   \n",
       "50829    IL  60126           0.0              NaN   \n",
       "\n",
       "                                            contract_url  \n",
       "50825  http://ecm.cityofchicago.org/eSMARTContracts/s...  \n",
       "50826  http://ecm.cityofchicago.org/eSMARTContracts/s...  \n",
       "50827  http://ecm.cityofchicago.org/eSMARTContracts/s...  \n",
       "50828  http://ecm.cityofchicago.org/eSMARTContracts/s...  \n",
       "50829  http://ecm.cityofchicago.org/eSMARTContracts/s...  "
      ]
     },
     "execution_count": 11,
     "metadata": {},
     "output_type": "execute_result"
    }
   ],
   "source": [
    "# See where were at again...\n",
    "data.head()"
   ]
  },
  {
   "cell_type": "code",
   "execution_count": null,
   "metadata": {},
   "outputs": [],
   "source": [
    "# Now use regex to filter and change column to have JUST the url itself:\n",
    "# Just grab group 1\n",
    "remove_junk = re.compile(r\"{'url':\\s'(.*)'}\", re.IGNORECASE)\n",
    "data['contract_url'] = data['contract_url'].apply(lambda x: re.search(remove_junk, x).group(1))"
   ]
  },
  {
   "cell_type": "code",
   "execution_count": null,
   "metadata": {},
   "outputs": [],
   "source": [
    "# At this point for each row we'll download the pdf and store the pdf locally.\n",
    "    \n",
    "def download_pdf(row):\n",
    "    url=row['contract_url']\n",
    "    response = requests.get(url) # We'll grab the response.text (html output of page), grab REAL pdf link and download.\n",
    "    # Use regex to pull the link out....Let's hope all chicago contracts follow same html format ;)\n",
    "    pdf_regex = re.compile(r'<iframe src=\"(.*)\"\\sname=', re.IGNORECASE) # find link; this regex should be standard on all state pages.\n",
    "    new_link = re.search(pdf_regex, response.text).group(1) # REAL pdf link\n",
    "    r = requests.get(new_link, allow_redirects=True, stream=True)\n",
    "    with open('../raw/chicago_pdfs/' + str(row['specification_number']) + '-' + str(row['vendor_id']) + '.pdf', 'wb') as f:\n",
    "        f.write(r.content)\n",
    "\n",
    "# Download pdf for each row using its contract_url\n",
    "data.apply(download_pdf, axis=1)\n",
    "\n",
    "\n",
    "\n",
    "# VERIFIED EXTRACTION CODE TO DOWNLOAD PDF FROM STATE SITES (pain in the butt, took me way too long...)\n",
    "\n",
    "# url = 'http://ecm.cityofchicago.org/eSMARTContracts/service/DPSWebDocumentViewer?sid=ESMART&id={2488393F-CCF9-476E-808A-9FBF3C25E0D6}'\n",
    "# response = requests.get(url) # We'll grab the response.text (html output of page), grab real pdf link and download.\n",
    "# # Use regex to pull the link out....Let's hope all chicago contracts follow same html format ;)\n",
    "# pdf_regex = re.compile(r'<iframe src=\"(.*)\"\\sname=', re.IGNORECASE) # find link; this regex should be standard on all state pages.\n",
    "# new_link = re.search(pdf_regex, response.text).group(1)\n",
    "# r = requests.get(new_link, allow_redirects=True, stream=True)\n",
    "# with open('test.pdf', 'wb') as f:\n",
    "#     f.write(r.content)"
   ]
  },
  {
   "cell_type": "code",
   "execution_count": null,
   "metadata": {},
   "outputs": [],
   "source": [
    "# This  function says for each row we have an associated pddf, extract text from it. (see what happens!)\n",
    "def pdf_to_text(row): \n",
    "    # Grab what the filename should be\n",
    "    filename = '../raw/chicago_pdfs/' + str(row['specification_number']) + '-' + str(row['vendor_id']) + '.pdf'\n",
    "        \n",
    "# For each row take text from downloaded pdf associated file/delete it?\n",
    "data['text_list'] = data.apply(pdf_to_text, axis=1)"
   ]
  },
  {
   "cell_type": "markdown",
   "metadata": {},
   "source": [
    "## STEP 2: Local_PDF -> List of strings representing OCR output"
   ]
  },
  {
   "cell_type": "code",
   "execution_count": null,
   "metadata": {
    "scrolled": false
   },
   "outputs": [],
   "source": [
    "# https://gitlab.gnome.org/World/OpenPaperwork/pyocr\n",
    "from wand.image import Image\n",
    "from PIL import Image as PI\n",
    "import pyocr\n",
    "import pyocr.builders\n",
    "import io\n",
    "import sys\n",
    "# Get english language for OCR\n",
    "from pyocr import tesseract as tool\n",
    "tool = pyocr.get_available_tools()[0] # this didnt work use tesseract\n",
    "lang = tool.get_available_languages()[1]\n",
    "req_image = []\n",
    "final_text = []\n",
    "# Convert a pdf to jpg for OCR\n",
    "image_pdf = Image(filename=\"../raw/chicago_pdfs/small_example.pdf\", resolution=300)\n",
    "image_jpeg = image_pdf.convert('jpeg')\n",
    "# Append all pdf converted jpgs to a blob object\n",
    "for img in image_jpeg.sequence:\n",
    "    img_page = Image(image=img)\n",
    "    req_image.append(img_page.make_blob('jpeg'))\n"
   ]
  },
  {
   "cell_type": "code",
   "execution_count": null,
   "metadata": {},
   "outputs": [],
   "source": [
    "# FINALLY run tesseract-OCR over our blob jpg images\n",
    "for img in req_image: \n",
    "    txt = tool.image_to_string(\n",
    "        PI.open(io.BytesIO(img)),\n",
    "        lang='eng',#lang\n",
    "        builder=pyocr.builders.TextBuilder()\n",
    "    )\n",
    "    final_text.append(txt)"
   ]
  },
  {
   "cell_type": "code",
   "execution_count": null,
   "metadata": {},
   "outputs": [],
   "source": [
    "final_text"
   ]
  },
  {
   "cell_type": "code",
   "execution_count": null,
   "metadata": {},
   "outputs": [],
   "source": [
    "# First objective: Create column that contains text from pdf->text (tesseract?)\n",
    "# (Or better option than tesseract for python if exists...)"
   ]
  },
  {
   "cell_type": "markdown",
   "metadata": {},
   "source": [
    "# Late game"
   ]
  },
  {
   "cell_type": "code",
   "execution_count": null,
   "metadata": {},
   "outputs": [],
   "source": [
    "# Second objective: Make a column utilizing web scraping on "
   ]
  },
  {
   "cell_type": "code",
   "execution_count": null,
   "metadata": {},
   "outputs": [],
   "source": [
    "# Third objective: Create truth column that deduces whether or not a contract\n",
    "# was ACCEPTED/DENIED utiilizing regex and looking at column created above.\n"
   ]
  },
  {
   "cell_type": "code",
   "execution_count": null,
   "metadata": {},
   "outputs": [],
   "source": [
    "# Fourth objective: Create a list of prioritized vendors to imititate based off:\n",
    "# -How many contracts they've acquired\n",
    "# -Value of contracts (ie: give higher weight/importance of imitation to\n",
    "    # high-paying contract obtainers)"
   ]
  },
  {
   "cell_type": "code",
   "execution_count": null,
   "metadata": {},
   "outputs": [],
   "source": [
    "# Once curated dataset created, upload to Kaggle as a kernel and call TIDY_contract_data.csv/xlsx\n"
   ]
  },
  {
   "cell_type": "code",
   "execution_count": null,
   "metadata": {},
   "outputs": [],
   "source": [
    "# Create a text classifier that finds and verifies a piece ofo text exists in\n",
    "# all contracts (ie: a standard or substandard that is followed but sometimes  forgotten)"
   ]
  },
  {
   "cell_type": "code",
   "execution_count": null,
   "metadata": {},
   "outputs": [],
   "source": [
    "# OR create a feature bayesian inference to discern acceptance or denial of contract"
   ]
  }
 ],
 "metadata": {
  "kernelspec": {
   "display_name": "Python 3",
   "language": "python",
   "name": "python3"
  },
  "language_info": {
   "codemirror_mode": {
    "name": "ipython",
    "version": 3
   },
   "file_extension": ".py",
   "mimetype": "text/x-python",
   "name": "python",
   "nbconvert_exporter": "python",
   "pygments_lexer": "ipython3",
   "version": "3.6.5"
  }
 },
 "nbformat": 4,
 "nbformat_minor": 2
}
